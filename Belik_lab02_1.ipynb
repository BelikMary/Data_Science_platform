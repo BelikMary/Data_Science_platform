{
  "cells": [
    {
      "cell_type": "markdown",
      "metadata": {
        "id": "view-in-github",
        "colab_type": "text"
      },
      "source": [
        "<a href=\"https://colab.research.google.com/github/BelikMary/Data_Science_platform/blob/main/Belik_lab02_1.ipynb\" target=\"_parent\"><img src=\"https://colab.research.google.com/assets/colab-badge.svg\" alt=\"Open In Colab\"/></a>"
      ]
    },
    {
      "cell_type": "markdown",
      "metadata": {
        "id": "lIlS9xA-4_Jo"
      },
      "source": [
        "# Лабораторная работа 2-1\n",
        "Выполнила: Белик Мария\n",
        "АДЭУ-211"
      ]
    },
    {
      "cell_type": "markdown",
      "metadata": {
        "collapsed": true,
        "id": "0zfrSBVs4_Jr"
      },
      "source": [
        "## 2.1.1: Множества\n",
        "\n",
        "Напишите функцию, которая находит пересечение двух множеств и печатает их.\n",
        "Инициализируйте два множества, например, значениями {13, 25, 37, 45, 13} и {14, 25, 38, 8, 45} и вызовите  функцию."
      ]
    },
    {
      "cell_type": "code",
      "execution_count": null,
      "metadata": {
        "colab": {
          "base_uri": "https://localhost:8080/"
        },
        "id": "kea1OIl94_Js",
        "outputId": "f2810019-6dcd-4b5c-e52b-f022a7890b8a"
      },
      "outputs": [
        {
          "output_type": "execute_result",
          "data": {
            "text/plain": [
              "{25, 45}"
            ]
          },
          "metadata": {},
          "execution_count": 6
        }
      ],
      "source": [
        "set1={13, 25, 37, 45, 13}\n",
        "set2={14, 25, 38, 8, 45}\n",
        "\n",
        "def func(a,b):\n",
        "  return a.intersection(b)\n",
        "\n",
        "func(set1,set2)"
      ]
    },
    {
      "cell_type": "markdown",
      "metadata": {
        "id": "LQG0zn3k4_Ju"
      },
      "source": [
        "## 2.1.2: Dictionaries\n",
        "\n",
        "* Создайте словарь с двухбуквенными кодами двух федеральных округов России и полными названиями, например, ЦТ: \tЦентральный, ЮЖ: Южный.\n",
        "* После первоначального создания словаря добавьте в словарь еще два округа.\n",
        "* Создайте второй словарь, который сопоставляет коды федеральных округов России с массивом городов в этом округе, например, ЦТ: [Москва, Тверь, Химки, Мытищи].\n",
        "* Напишите функцию, которая принимает код федеральных округов, печатает полное название округа и выводит список городов в этом округе."
      ]
    },
    {
      "cell_type": "markdown",
      "source": [
        "*2.1.2.1. Создание словаря:*"
      ],
      "metadata": {
        "id": "Y6hhYYNzekL5"
      }
    },
    {
      "cell_type": "code",
      "execution_count": null,
      "metadata": {
        "colab": {
          "base_uri": "https://localhost:8080/"
        },
        "id": "yGVZGUgN4_Jv",
        "outputId": "f16517be-0987-4555-9c4c-66f3c3a75dd7"
      },
      "outputs": [
        {
          "output_type": "stream",
          "name": "stdout",
          "text": [
            "{'ЦТ': 'Центральный', 'ЮЖ': 'Южный'}\n"
          ]
        }
      ],
      "source": [
        "dict={'ЦТ':'Центральный', 'ЮЖ':'Южный'}\n",
        "print(dict)"
      ]
    },
    {
      "cell_type": "markdown",
      "source": [
        "*2.1.2.2. Добавление в словарь еще двух округов:*"
      ],
      "metadata": {
        "id": "beazzsnfezFy"
      }
    },
    {
      "cell_type": "code",
      "source": [
        "dict['СВ']='Северный'\n",
        "dict['ВС']='Восточный'\n",
        "\n",
        "print(dict)"
      ],
      "metadata": {
        "colab": {
          "base_uri": "https://localhost:8080/"
        },
        "id": "I3CMogKBCMvh",
        "outputId": "cadb60c7-3573-49a1-dd89-b02608236a2e"
      },
      "execution_count": null,
      "outputs": [
        {
          "output_type": "stream",
          "name": "stdout",
          "text": [
            "{'ЦТ': 'Центральный', 'ЮЖ': 'Южный', 'СВ': 'Северный', 'ВС': 'Восточный'}\n"
          ]
        }
      ]
    },
    {
      "cell_type": "markdown",
      "source": [
        "*2.1.2.3. Создание второго словаря с массивом городов в этом округе:*"
      ],
      "metadata": {
        "id": "k-w7kSpbfHC5"
      }
    },
    {
      "cell_type": "code",
      "source": [
        "dict2={'ЦТ':['Москва','Химки','Суздаль','Тверь'],'ЮЖ':['Ростов-на-Дону','Ейск','Краснодар','Сочи'],'СВ':['Мурманск','Архангельск','Сыктывкар','Северодвинск'],'ВС':['Петропавловск-Камчатский','Хабаровск','Магадан','Якутск']}\n",
        "print(dict2)"
      ],
      "metadata": {
        "colab": {
          "base_uri": "https://localhost:8080/"
        },
        "id": "iv8Ac5w-Cx10",
        "outputId": "a5adb4fc-1dbb-4123-b449-3d77542996cf"
      },
      "execution_count": null,
      "outputs": [
        {
          "output_type": "stream",
          "name": "stdout",
          "text": [
            "{'ЦТ': ['Москва', 'Химки', 'Суздаль', 'Тверь'], 'ЮЖ': ['Ростов-на-Дону', 'Ейск', 'Краснодар', 'Сочи'], 'СВ': ['Мурманск', 'Архангельск', 'Сыктывкар', 'Северодвинск'], 'ВС': ['Петропавловск-Камчатский', 'Хабаровск', 'Магадан', 'Якутск']}\n"
          ]
        }
      ]
    },
    {
      "cell_type": "markdown",
      "source": [
        "*2.1.2.4. Создание функции, которая принимает код федеральных округов, печатает полное название округа и выводит список городов данного округа:*"
      ],
      "metadata": {
        "id": "QIU_VIkrfTBR"
      }
    },
    {
      "cell_type": "code",
      "source": [
        "def function(k):\n",
        "  print('Название округа: ',dict[k], ', города округа: ',dict2[k])\n",
        "\n",
        "function('ЦТ')"
      ],
      "metadata": {
        "colab": {
          "base_uri": "https://localhost:8080/"
        },
        "id": "M0kc4b-1Fuqq",
        "outputId": "cd4262fb-62e8-451b-e040-8fc62f5b0bd0"
      },
      "execution_count": null,
      "outputs": [
        {
          "output_type": "stream",
          "name": "stdout",
          "text": [
            "Название округа:  Центральный , города округа:  ['Москва', 'Химки', 'Суздаль', 'Тверь']\n"
          ]
        }
      ]
    },
    {
      "cell_type": "markdown",
      "metadata": {
        "id": "asgSDo4f4_Jv"
      },
      "source": [
        "## 2.1.3: Objects\n",
        "\n",
        "Создайте класс `Pet` с параметрами `name, pronoun, animal,` и `pet_response`.\n",
        "\n",
        "Добавьте метод `pet()`, который печатает ответ, состоящий из элементов, например:\n",
        "\n",
        "` Лейла — кошка. Если ее погладить, Лейла мурчит».`\n",
        "` Скаут — собака. Если его погладить, Скаут виляет хвостом.`"
      ]
    },
    {
      "cell_type": "code",
      "execution_count": 1,
      "metadata": {
        "id": "UTg6Yrd34_Jw"
      },
      "outputs": [],
      "source": [
        "class Pet:\n",
        "\n",
        "  def __init__(self,name, pronoun,animal,pet_response):\n",
        "    self.name=name\n",
        "    self.pronoun=pronoun\n",
        "    self.animal=animal\n",
        "    self.pet_response=pet_response\n",
        "\n",
        "  def pet(self):\n",
        "    print(self.name, \" - \", self.animal, \". If you pet \", self.pronoun, \", \", self.name, \" \", self.pet_response)"
      ]
    },
    {
      "cell_type": "markdown",
      "metadata": {
        "id": "UgR3BNGs4_Jw"
      },
      "source": [
        "Вот несколько примеров вызовов:"
      ]
    },
    {
      "cell_type": "code",
      "execution_count": 2,
      "metadata": {
        "colab": {
          "base_uri": "https://localhost:8080/"
        },
        "id": "MkKcdTGI4_Jx",
        "outputId": "370e566b-a3b5-46f8-e86f-6a28a1df01cc"
      },
      "outputs": [
        {
          "output_type": "stream",
          "name": "stdout",
          "text": [
            "Layla  -  cat . If you pet  her ,  Layla   purrs\n",
            "Scout  -  dog . If you pet  her ,  Scout   wags her tail\n"
          ]
        }
      ],
      "source": [
        "layla = Pet(\"Layla\", \"her\", \"cat\", \"purrs\")\n",
        "scout = Pet(\"Scout\", \"her\", \"dog\", \"wags her tail\")\n",
        "\n",
        "layla.pet()\n",
        "scout.pet()"
      ]
    },
    {
      "cell_type": "markdown",
      "metadata": {
        "collapsed": true,
        "id": "LrP7FbZx4_Jy"
      },
      "source": [
        "## 2.1.4: Pandas Series"
      ]
    },
    {
      "cell_type": "markdown",
      "metadata": {
        "id": "_aSaQBka4_Jz"
      },
      "source": [
        "Создайте `pandas series`, используя приведенные ниже списки, содержащие названия команд [Российской премьер-лиги](https://ru.wikipedia.org/wiki/%D0%A0%D0%BE%D1%81%D1%81%D0%B8%D0%B9%D1%81%D0%BA%D0%B0%D1%8F_%D0%BF%D1%80%D0%B5%D0%BC%D1%8C%D0%B5%D1%80-%D0%BB%D0%B8%D0%B3%D0%B0) и количество выигранных ими кубка премьер-лиги. Используйте имена как индексы, а победы как данные.\n",
        "\n",
        "  * После создания списка отсортируйте данные в алфавитном порядке по индексу.\n",
        "  * Распечатать обзор статистических свойств ряда. Каково среднее количество побед?\n",
        "  * Отфильтровать все команды, выигравшие менее четырех кубков премьер-лиги.\n",
        "  * В футбольной команде 11 игроков. Обновите данные, чтобы вместо количества чемпионатов,  отражалось количество побед.\n",
        "  * Предположим, что каждая  победа приносила 50 000 долларов США. Обновите данные, чтобы они содержали строку суммы в долларах, включая знак \\$. Например, для `Локомотив` это будет соответствовать:\n",
        "  ```\n",
        "  Тренер Юрий Сёмин  Локомотив $ 600000\n",
        "  ```"
      ]
    },
    {
      "cell_type": "markdown",
      "source": [
        "Исходные данные, которые были сразу в задании:"
      ],
      "metadata": {
        "id": "d5ulaR4VgLA-"
      }
    },
    {
      "cell_type": "code",
      "execution_count": 47,
      "metadata": {
        "id": "_XDu_8eo4_Jz"
      },
      "outputs": [],
      "source": [
        "teams = [\"Юрий Сёмин («Локомотив»)\",\n",
        "         \"Олег Романцев («Спартак»)\",\n",
        "         \"Сергей Семак («Зенит»)\",\n",
        "         \"Валерий Газзаев («Спартак-Алания»)\",\n",
        "         \"Леонид Слуцкий (ЦСКА)\",\n",
        "         \"Курбан Бердыев («Рубин»)\",\n",
        "         \"Лучано Спаллетти («Зенит»)\",\n",
        "         \"Андре Виллаш-Боаш («Зенит»)\",\n",
        "         \"Дик Адвокат («Зенит»)\",\n",
        "         \"Массимо Каррера («Спартак»)\",\n",
        "         \"Зико (ЦСКА)\",\n",
        "         \"Георгий Ярцев («Спартак»)\"]\n",
        "wins = [12,11,10,10,7,5,4,3,2,2,1,1]"
      ]
    },
    {
      "cell_type": "code",
      "execution_count": 34,
      "metadata": {
        "id": "u8rredPD4_J0"
      },
      "outputs": [],
      "source": [
        "import pandas as pd"
      ]
    },
    {
      "cell_type": "markdown",
      "source": [
        "*2.1.4.1. Создание Series:*"
      ],
      "metadata": {
        "id": "ktgVTrECgUr8"
      }
    },
    {
      "cell_type": "code",
      "source": [
        "s=pd.Series(wins,index=teams)\n",
        "print(s)"
      ],
      "metadata": {
        "colab": {
          "base_uri": "https://localhost:8080/"
        },
        "id": "Sf4qVoMAPuOv",
        "outputId": "db29bfe9-edd4-496f-da6a-3f19332c2e66"
      },
      "execution_count": 58,
      "outputs": [
        {
          "output_type": "stream",
          "name": "stdout",
          "text": [
            "Юрий Сёмин («Локомотив»)              12\n",
            "Олег Романцев («Спартак»)             11\n",
            "Сергей Семак («Зенит»)                10\n",
            "Валерий Газзаев («Спартак-Алания»)    10\n",
            "Леонид Слуцкий (ЦСКА)                  7\n",
            "Курбан Бердыев («Рубин»)               5\n",
            "Лучано Спаллетти («Зенит»)             4\n",
            "Андре Виллаш-Боаш («Зенит»)            3\n",
            "Дик Адвокат («Зенит»)                  2\n",
            "Массимо Каррера («Спартак»)            2\n",
            "Зико (ЦСКА)                            1\n",
            "Георгий Ярцев («Спартак»)              1\n",
            "dtype: int64\n"
          ]
        }
      ]
    },
    {
      "cell_type": "markdown",
      "source": [
        "*2.1.4.2. Сортировка в алфавитном порядке по индексу (по заданию имена используются как индексы, а победы- как данные):*"
      ],
      "metadata": {
        "id": "Uis5TAVagc83"
      }
    },
    {
      "cell_type": "code",
      "source": [
        "s_sort=s.sort_index()\n",
        "print(s_sort)"
      ],
      "metadata": {
        "colab": {
          "base_uri": "https://localhost:8080/"
        },
        "id": "HiGXjiGgQmlz",
        "outputId": "63046758-856e-47ae-a154-fd37aa3144d2"
      },
      "execution_count": 59,
      "outputs": [
        {
          "output_type": "stream",
          "name": "stdout",
          "text": [
            "Андре Виллаш-Боаш («Зенит»)            3\n",
            "Валерий Газзаев («Спартак-Алания»)    10\n",
            "Георгий Ярцев («Спартак»)              1\n",
            "Дик Адвокат («Зенит»)                  2\n",
            "Зико (ЦСКА)                            1\n",
            "Курбан Бердыев («Рубин»)               5\n",
            "Леонид Слуцкий (ЦСКА)                  7\n",
            "Лучано Спаллетти («Зенит»)             4\n",
            "Массимо Каррера («Спартак»)            2\n",
            "Олег Романцев («Спартак»)             11\n",
            "Сергей Семак («Зенит»)                10\n",
            "Юрий Сёмин («Локомотив»)              12\n",
            "dtype: int64\n"
          ]
        }
      ]
    },
    {
      "cell_type": "markdown",
      "source": [
        "*2.1.4.2. Распечатаем обзор статистических свойств ряда:*"
      ],
      "metadata": {
        "id": "ZwThIxjtgyGZ"
      }
    },
    {
      "cell_type": "code",
      "source": [
        "s.describe()"
      ],
      "metadata": {
        "colab": {
          "base_uri": "https://localhost:8080/"
        },
        "id": "bTLzVj5ARcOO",
        "outputId": "fa85eee6-195c-437e-ed63-3a04836fc2a9"
      },
      "execution_count": 60,
      "outputs": [
        {
          "output_type": "execute_result",
          "data": {
            "text/plain": [
              "count    12.000000\n",
              "mean      5.666667\n",
              "std       4.141439\n",
              "min       1.000000\n",
              "25%       2.000000\n",
              "50%       4.500000\n",
              "75%      10.000000\n",
              "max      12.000000\n",
              "dtype: float64"
            ]
          },
          "metadata": {},
          "execution_count": 60
        }
      ]
    },
    {
      "cell_type": "markdown",
      "source": [
        "*2.1.4.3. Находим среднее количество побед:*"
      ],
      "metadata": {
        "id": "JlaPc4Fug_vC"
      }
    },
    {
      "cell_type": "code",
      "source": [
        "sred=round(s.mean())\n",
        "sred"
      ],
      "metadata": {
        "colab": {
          "base_uri": "https://localhost:8080/"
        },
        "id": "jIHiUmS9R3Ty",
        "outputId": "f9efb37c-1c85-4a9f-f4be-1e6457064fe3"
      },
      "execution_count": 61,
      "outputs": [
        {
          "output_type": "execute_result",
          "data": {
            "text/plain": [
              "6"
            ]
          },
          "metadata": {},
          "execution_count": 61
        }
      ]
    },
    {
      "cell_type": "markdown",
      "source": [
        "*2.1.4.4. Отфильтровываем все команды, выигравшие менее четырех кубков премьер-лиги:*"
      ],
      "metadata": {
        "id": "OSiQnDcGhVOq"
      }
    },
    {
      "cell_type": "code",
      "source": [
        "s_filtered=s\n",
        "s_filtered[s_filtered > 3]"
      ],
      "metadata": {
        "colab": {
          "base_uri": "https://localhost:8080/"
        },
        "id": "8U3ROap4R-5O",
        "outputId": "a9998de0-1b8c-4efc-b1bd-87d6fe91be62"
      },
      "execution_count": 62,
      "outputs": [
        {
          "output_type": "execute_result",
          "data": {
            "text/plain": [
              "Юрий Сёмин («Локомотив»)              12\n",
              "Олег Романцев («Спартак»)             11\n",
              "Сергей Семак («Зенит»)                10\n",
              "Валерий Газзаев («Спартак-Алания»)    10\n",
              "Леонид Слуцкий (ЦСКА)                  7\n",
              "Курбан Бердыев («Рубин»)               5\n",
              "Лучано Спаллетти («Зенит»)             4\n",
              "dtype: int64"
            ]
          },
          "metadata": {},
          "execution_count": 62
        }
      ]
    },
    {
      "cell_type": "markdown",
      "source": [
        "*2.1.4.5. В футбольной команде 11 игроков.\n",
        "Обновите данные, чтобы вместо количества чемпионатов, отражалось количество побед.\n",
        "Т.к. изначально дано было количество побед (столбец \"Всего\"), тогда обновим на количество чемпионатов:*"
      ],
      "metadata": {
        "id": "ip8mWddSl6YT"
      }
    },
    {
      "cell_type": "code",
      "source": [
        "listtt = pd.read_html(\n",
        "  'https://ru.wikipedia.org/wiki/%D0%A0%D0%BE%D1%81%D1%81%D0%B8%D0%B9%D1%81%D0%BA%D0%B0%D1%8F_%D0%BF%D1%80%D0%B5%D0%BC%D1%8C%D0%B5%D1%80-%D0%BB%D0%B8%D0%B3%D0%B0#%D0%A2%D1%80%D0%B5%D0%BD%D0%B5%D1%80%D1%8B',match='Тренер')"
      ],
      "metadata": {
        "id": "oSEsXBZlmIVa"
      },
      "execution_count": 63,
      "outputs": []
    },
    {
      "cell_type": "code",
      "source": [
        "#Полученный датафрейм:\n",
        "\n",
        "df=pd.DataFrame(listtt[0])\n",
        "df=df.head(12)\n",
        "df"
      ],
      "metadata": {
        "colab": {
          "base_uri": "https://localhost:8080/",
          "height": 425
        },
        "id": "sGb5MGTOnwhU",
        "outputId": "98c01f82-b6b6-4928-8f5c-b82997ec4a63"
      },
      "execution_count": 64,
      "outputs": [
        {
          "output_type": "execute_result",
          "data": {
            "text/plain": [
              "     №                                    Тренер  Всего  Чемпионат  Кубок  \\\n",
              "0    1                  Юрий Сёмин («Локомотив»)     12          3      6   \n",
              "1    2                 Олег Романцев («Спартак»)     11          8      3   \n",
              "2    3                    Сергей Семак («Зенит»)     10          5      1   \n",
              "3    4  Валерий Газзаев («Спартак-Алания», ЦСКА)     10          4      4   \n",
              "4    5                     Леонид Слуцкий (ЦСКА)      7          3      2   \n",
              "5    6                  Курбан Бердыев («Рубин»)      5          2      1   \n",
              "6    7                Лучано Спаллетти («Зенит»)      4          2      1   \n",
              "7    8               Андре Виллаш-Боаш («Зенит»)      3          1      1   \n",
              "8    9                     Дик Адвокат («Зенит»)      2          1      0   \n",
              "9    9               Массимо Каррера («Спартак»)      2          1      0   \n",
              "10  11                               Зико (ЦСКА)      2          0      1   \n",
              "11  12                 Георгий Ярцев («Спартак»)      1          1      0   \n",
              "\n",
              "    Кубок лиги  Суперкубок  \n",
              "0            0           3  \n",
              "1            0           0  \n",
              "2            0           4  \n",
              "3            0           2  \n",
              "4            0           2  \n",
              "5            0           2  \n",
              "6            0           1  \n",
              "7            0           1  \n",
              "8            0           1  \n",
              "9            0           1  \n",
              "10           0           1  \n",
              "11           0           0  "
            ],
            "text/html": [
              "\n",
              "  <div id=\"df-5406927a-37b9-46e5-b3c6-f362f817e908\" class=\"colab-df-container\">\n",
              "    <div>\n",
              "<style scoped>\n",
              "    .dataframe tbody tr th:only-of-type {\n",
              "        vertical-align: middle;\n",
              "    }\n",
              "\n",
              "    .dataframe tbody tr th {\n",
              "        vertical-align: top;\n",
              "    }\n",
              "\n",
              "    .dataframe thead th {\n",
              "        text-align: right;\n",
              "    }\n",
              "</style>\n",
              "<table border=\"1\" class=\"dataframe\">\n",
              "  <thead>\n",
              "    <tr style=\"text-align: right;\">\n",
              "      <th></th>\n",
              "      <th>№</th>\n",
              "      <th>Тренер</th>\n",
              "      <th>Всего</th>\n",
              "      <th>Чемпионат</th>\n",
              "      <th>Кубок</th>\n",
              "      <th>Кубок лиги</th>\n",
              "      <th>Суперкубок</th>\n",
              "    </tr>\n",
              "  </thead>\n",
              "  <tbody>\n",
              "    <tr>\n",
              "      <th>0</th>\n",
              "      <td>1</td>\n",
              "      <td>Юрий Сёмин («Локомотив»)</td>\n",
              "      <td>12</td>\n",
              "      <td>3</td>\n",
              "      <td>6</td>\n",
              "      <td>0</td>\n",
              "      <td>3</td>\n",
              "    </tr>\n",
              "    <tr>\n",
              "      <th>1</th>\n",
              "      <td>2</td>\n",
              "      <td>Олег Романцев («Спартак»)</td>\n",
              "      <td>11</td>\n",
              "      <td>8</td>\n",
              "      <td>3</td>\n",
              "      <td>0</td>\n",
              "      <td>0</td>\n",
              "    </tr>\n",
              "    <tr>\n",
              "      <th>2</th>\n",
              "      <td>3</td>\n",
              "      <td>Сергей Семак («Зенит»)</td>\n",
              "      <td>10</td>\n",
              "      <td>5</td>\n",
              "      <td>1</td>\n",
              "      <td>0</td>\n",
              "      <td>4</td>\n",
              "    </tr>\n",
              "    <tr>\n",
              "      <th>3</th>\n",
              "      <td>4</td>\n",
              "      <td>Валерий Газзаев («Спартак-Алания», ЦСКА)</td>\n",
              "      <td>10</td>\n",
              "      <td>4</td>\n",
              "      <td>4</td>\n",
              "      <td>0</td>\n",
              "      <td>2</td>\n",
              "    </tr>\n",
              "    <tr>\n",
              "      <th>4</th>\n",
              "      <td>5</td>\n",
              "      <td>Леонид Слуцкий (ЦСКА)</td>\n",
              "      <td>7</td>\n",
              "      <td>3</td>\n",
              "      <td>2</td>\n",
              "      <td>0</td>\n",
              "      <td>2</td>\n",
              "    </tr>\n",
              "    <tr>\n",
              "      <th>5</th>\n",
              "      <td>6</td>\n",
              "      <td>Курбан Бердыев («Рубин»)</td>\n",
              "      <td>5</td>\n",
              "      <td>2</td>\n",
              "      <td>1</td>\n",
              "      <td>0</td>\n",
              "      <td>2</td>\n",
              "    </tr>\n",
              "    <tr>\n",
              "      <th>6</th>\n",
              "      <td>7</td>\n",
              "      <td>Лучано Спаллетти («Зенит»)</td>\n",
              "      <td>4</td>\n",
              "      <td>2</td>\n",
              "      <td>1</td>\n",
              "      <td>0</td>\n",
              "      <td>1</td>\n",
              "    </tr>\n",
              "    <tr>\n",
              "      <th>7</th>\n",
              "      <td>8</td>\n",
              "      <td>Андре Виллаш-Боаш («Зенит»)</td>\n",
              "      <td>3</td>\n",
              "      <td>1</td>\n",
              "      <td>1</td>\n",
              "      <td>0</td>\n",
              "      <td>1</td>\n",
              "    </tr>\n",
              "    <tr>\n",
              "      <th>8</th>\n",
              "      <td>9</td>\n",
              "      <td>Дик Адвокат («Зенит»)</td>\n",
              "      <td>2</td>\n",
              "      <td>1</td>\n",
              "      <td>0</td>\n",
              "      <td>0</td>\n",
              "      <td>1</td>\n",
              "    </tr>\n",
              "    <tr>\n",
              "      <th>9</th>\n",
              "      <td>9</td>\n",
              "      <td>Массимо Каррера («Спартак»)</td>\n",
              "      <td>2</td>\n",
              "      <td>1</td>\n",
              "      <td>0</td>\n",
              "      <td>0</td>\n",
              "      <td>1</td>\n",
              "    </tr>\n",
              "    <tr>\n",
              "      <th>10</th>\n",
              "      <td>11</td>\n",
              "      <td>Зико (ЦСКА)</td>\n",
              "      <td>2</td>\n",
              "      <td>0</td>\n",
              "      <td>1</td>\n",
              "      <td>0</td>\n",
              "      <td>1</td>\n",
              "    </tr>\n",
              "    <tr>\n",
              "      <th>11</th>\n",
              "      <td>12</td>\n",
              "      <td>Георгий Ярцев («Спартак»)</td>\n",
              "      <td>1</td>\n",
              "      <td>1</td>\n",
              "      <td>0</td>\n",
              "      <td>0</td>\n",
              "      <td>0</td>\n",
              "    </tr>\n",
              "  </tbody>\n",
              "</table>\n",
              "</div>\n",
              "    <div class=\"colab-df-buttons\">\n",
              "\n",
              "  <div class=\"colab-df-container\">\n",
              "    <button class=\"colab-df-convert\" onclick=\"convertToInteractive('df-5406927a-37b9-46e5-b3c6-f362f817e908')\"\n",
              "            title=\"Convert this dataframe to an interactive table.\"\n",
              "            style=\"display:none;\">\n",
              "\n",
              "  <svg xmlns=\"http://www.w3.org/2000/svg\" height=\"24px\" viewBox=\"0 -960 960 960\">\n",
              "    <path d=\"M120-120v-720h720v720H120Zm60-500h600v-160H180v160Zm220 220h160v-160H400v160Zm0 220h160v-160H400v160ZM180-400h160v-160H180v160Zm440 0h160v-160H620v160ZM180-180h160v-160H180v160Zm440 0h160v-160H620v160Z\"/>\n",
              "  </svg>\n",
              "    </button>\n",
              "\n",
              "  <style>\n",
              "    .colab-df-container {\n",
              "      display:flex;\n",
              "      gap: 12px;\n",
              "    }\n",
              "\n",
              "    .colab-df-convert {\n",
              "      background-color: #E8F0FE;\n",
              "      border: none;\n",
              "      border-radius: 50%;\n",
              "      cursor: pointer;\n",
              "      display: none;\n",
              "      fill: #1967D2;\n",
              "      height: 32px;\n",
              "      padding: 0 0 0 0;\n",
              "      width: 32px;\n",
              "    }\n",
              "\n",
              "    .colab-df-convert:hover {\n",
              "      background-color: #E2EBFA;\n",
              "      box-shadow: 0px 1px 2px rgba(60, 64, 67, 0.3), 0px 1px 3px 1px rgba(60, 64, 67, 0.15);\n",
              "      fill: #174EA6;\n",
              "    }\n",
              "\n",
              "    .colab-df-buttons div {\n",
              "      margin-bottom: 4px;\n",
              "    }\n",
              "\n",
              "    [theme=dark] .colab-df-convert {\n",
              "      background-color: #3B4455;\n",
              "      fill: #D2E3FC;\n",
              "    }\n",
              "\n",
              "    [theme=dark] .colab-df-convert:hover {\n",
              "      background-color: #434B5C;\n",
              "      box-shadow: 0px 1px 3px 1px rgba(0, 0, 0, 0.15);\n",
              "      filter: drop-shadow(0px 1px 2px rgba(0, 0, 0, 0.3));\n",
              "      fill: #FFFFFF;\n",
              "    }\n",
              "  </style>\n",
              "\n",
              "    <script>\n",
              "      const buttonEl =\n",
              "        document.querySelector('#df-5406927a-37b9-46e5-b3c6-f362f817e908 button.colab-df-convert');\n",
              "      buttonEl.style.display =\n",
              "        google.colab.kernel.accessAllowed ? 'block' : 'none';\n",
              "\n",
              "      async function convertToInteractive(key) {\n",
              "        const element = document.querySelector('#df-5406927a-37b9-46e5-b3c6-f362f817e908');\n",
              "        const dataTable =\n",
              "          await google.colab.kernel.invokeFunction('convertToInteractive',\n",
              "                                                    [key], {});\n",
              "        if (!dataTable) return;\n",
              "\n",
              "        const docLinkHtml = 'Like what you see? Visit the ' +\n",
              "          '<a target=\"_blank\" href=https://colab.research.google.com/notebooks/data_table.ipynb>data table notebook</a>'\n",
              "          + ' to learn more about interactive tables.';\n",
              "        element.innerHTML = '';\n",
              "        dataTable['output_type'] = 'display_data';\n",
              "        await google.colab.output.renderOutput(dataTable, element);\n",
              "        const docLink = document.createElement('div');\n",
              "        docLink.innerHTML = docLinkHtml;\n",
              "        element.appendChild(docLink);\n",
              "      }\n",
              "    </script>\n",
              "  </div>\n",
              "\n",
              "\n",
              "<div id=\"df-9f878e81-4aad-42ab-becd-44ca893fd336\">\n",
              "  <button class=\"colab-df-quickchart\" onclick=\"quickchart('df-9f878e81-4aad-42ab-becd-44ca893fd336')\"\n",
              "            title=\"Suggest charts\"\n",
              "            style=\"display:none;\">\n",
              "\n",
              "<svg xmlns=\"http://www.w3.org/2000/svg\" height=\"24px\"viewBox=\"0 0 24 24\"\n",
              "     width=\"24px\">\n",
              "    <g>\n",
              "        <path d=\"M19 3H5c-1.1 0-2 .9-2 2v14c0 1.1.9 2 2 2h14c1.1 0 2-.9 2-2V5c0-1.1-.9-2-2-2zM9 17H7v-7h2v7zm4 0h-2V7h2v10zm4 0h-2v-4h2v4z\"/>\n",
              "    </g>\n",
              "</svg>\n",
              "  </button>\n",
              "\n",
              "<style>\n",
              "  .colab-df-quickchart {\n",
              "      --bg-color: #E8F0FE;\n",
              "      --fill-color: #1967D2;\n",
              "      --hover-bg-color: #E2EBFA;\n",
              "      --hover-fill-color: #174EA6;\n",
              "      --disabled-fill-color: #AAA;\n",
              "      --disabled-bg-color: #DDD;\n",
              "  }\n",
              "\n",
              "  [theme=dark] .colab-df-quickchart {\n",
              "      --bg-color: #3B4455;\n",
              "      --fill-color: #D2E3FC;\n",
              "      --hover-bg-color: #434B5C;\n",
              "      --hover-fill-color: #FFFFFF;\n",
              "      --disabled-bg-color: #3B4455;\n",
              "      --disabled-fill-color: #666;\n",
              "  }\n",
              "\n",
              "  .colab-df-quickchart {\n",
              "    background-color: var(--bg-color);\n",
              "    border: none;\n",
              "    border-radius: 50%;\n",
              "    cursor: pointer;\n",
              "    display: none;\n",
              "    fill: var(--fill-color);\n",
              "    height: 32px;\n",
              "    padding: 0;\n",
              "    width: 32px;\n",
              "  }\n",
              "\n",
              "  .colab-df-quickchart:hover {\n",
              "    background-color: var(--hover-bg-color);\n",
              "    box-shadow: 0 1px 2px rgba(60, 64, 67, 0.3), 0 1px 3px 1px rgba(60, 64, 67, 0.15);\n",
              "    fill: var(--button-hover-fill-color);\n",
              "  }\n",
              "\n",
              "  .colab-df-quickchart-complete:disabled,\n",
              "  .colab-df-quickchart-complete:disabled:hover {\n",
              "    background-color: var(--disabled-bg-color);\n",
              "    fill: var(--disabled-fill-color);\n",
              "    box-shadow: none;\n",
              "  }\n",
              "\n",
              "  .colab-df-spinner {\n",
              "    border: 2px solid var(--fill-color);\n",
              "    border-color: transparent;\n",
              "    border-bottom-color: var(--fill-color);\n",
              "    animation:\n",
              "      spin 1s steps(1) infinite;\n",
              "  }\n",
              "\n",
              "  @keyframes spin {\n",
              "    0% {\n",
              "      border-color: transparent;\n",
              "      border-bottom-color: var(--fill-color);\n",
              "      border-left-color: var(--fill-color);\n",
              "    }\n",
              "    20% {\n",
              "      border-color: transparent;\n",
              "      border-left-color: var(--fill-color);\n",
              "      border-top-color: var(--fill-color);\n",
              "    }\n",
              "    30% {\n",
              "      border-color: transparent;\n",
              "      border-left-color: var(--fill-color);\n",
              "      border-top-color: var(--fill-color);\n",
              "      border-right-color: var(--fill-color);\n",
              "    }\n",
              "    40% {\n",
              "      border-color: transparent;\n",
              "      border-right-color: var(--fill-color);\n",
              "      border-top-color: var(--fill-color);\n",
              "    }\n",
              "    60% {\n",
              "      border-color: transparent;\n",
              "      border-right-color: var(--fill-color);\n",
              "    }\n",
              "    80% {\n",
              "      border-color: transparent;\n",
              "      border-right-color: var(--fill-color);\n",
              "      border-bottom-color: var(--fill-color);\n",
              "    }\n",
              "    90% {\n",
              "      border-color: transparent;\n",
              "      border-bottom-color: var(--fill-color);\n",
              "    }\n",
              "  }\n",
              "</style>\n",
              "\n",
              "  <script>\n",
              "    async function quickchart(key) {\n",
              "      const quickchartButtonEl =\n",
              "        document.querySelector('#' + key + ' button');\n",
              "      quickchartButtonEl.disabled = true;  // To prevent multiple clicks.\n",
              "      quickchartButtonEl.classList.add('colab-df-spinner');\n",
              "      try {\n",
              "        const charts = await google.colab.kernel.invokeFunction(\n",
              "            'suggestCharts', [key], {});\n",
              "      } catch (error) {\n",
              "        console.error('Error during call to suggestCharts:', error);\n",
              "      }\n",
              "      quickchartButtonEl.classList.remove('colab-df-spinner');\n",
              "      quickchartButtonEl.classList.add('colab-df-quickchart-complete');\n",
              "    }\n",
              "    (() => {\n",
              "      let quickchartButtonEl =\n",
              "        document.querySelector('#df-9f878e81-4aad-42ab-becd-44ca893fd336 button');\n",
              "      quickchartButtonEl.style.display =\n",
              "        google.colab.kernel.accessAllowed ? 'block' : 'none';\n",
              "    })();\n",
              "  </script>\n",
              "</div>\n",
              "    </div>\n",
              "  </div>\n"
            ],
            "application/vnd.google.colaboratory.intrinsic+json": {
              "type": "dataframe",
              "variable_name": "df",
              "summary": "{\n  \"name\": \"df\",\n  \"rows\": 12,\n  \"fields\": [\n    {\n      \"column\": \"\\u2116\",\n      \"properties\": {\n        \"dtype\": \"number\",\n        \"std\": 3,\n        \"min\": 1,\n        \"max\": 12,\n        \"num_unique_values\": 11,\n        \"samples\": [\n          6,\n          1,\n          11\n        ],\n        \"semantic_type\": \"\",\n        \"description\": \"\"\n      }\n    },\n    {\n      \"column\": \"\\u0422\\u0440\\u0435\\u043d\\u0435\\u0440\",\n      \"properties\": {\n        \"dtype\": \"string\",\n        \"num_unique_values\": 12,\n        \"samples\": [\n          \"\\u0417\\u0438\\u043a\\u043e (\\u0426\\u0421\\u041a\\u0410)\",\n          \"\\u041c\\u0430\\u0441\\u0441\\u0438\\u043c\\u043e \\u041a\\u0430\\u0440\\u0440\\u0435\\u0440\\u0430 (\\u00ab\\u0421\\u043f\\u0430\\u0440\\u0442\\u0430\\u043a\\u00bb)\",\n          \"\\u042e\\u0440\\u0438\\u0439 \\u0421\\u0451\\u043c\\u0438\\u043d (\\u00ab\\u041b\\u043e\\u043a\\u043e\\u043c\\u043e\\u0442\\u0438\\u0432\\u00bb)\"\n        ],\n        \"semantic_type\": \"\",\n        \"description\": \"\"\n      }\n    },\n    {\n      \"column\": \"\\u0412\\u0441\\u0435\\u0433\\u043e\",\n      \"properties\": {\n        \"dtype\": \"number\",\n        \"std\": 4,\n        \"min\": 1,\n        \"max\": 12,\n        \"num_unique_values\": 9,\n        \"samples\": [\n          2,\n          11,\n          4\n        ],\n        \"semantic_type\": \"\",\n        \"description\": \"\"\n      }\n    },\n    {\n      \"column\": \"\\u0427\\u0435\\u043c\\u043f\\u0438\\u043e\\u043d\\u0430\\u0442\",\n      \"properties\": {\n        \"dtype\": \"number\",\n        \"std\": 2,\n        \"min\": 0,\n        \"max\": 8,\n        \"num_unique_values\": 7,\n        \"samples\": [\n          3,\n          8,\n          1\n        ],\n        \"semantic_type\": \"\",\n        \"description\": \"\"\n      }\n    },\n    {\n      \"column\": \"\\u041a\\u0443\\u0431\\u043e\\u043a\",\n      \"properties\": {\n        \"dtype\": \"number\",\n        \"std\": 1,\n        \"min\": 0,\n        \"max\": 6,\n        \"num_unique_values\": 6,\n        \"samples\": [\n          6,\n          3,\n          0\n        ],\n        \"semantic_type\": \"\",\n        \"description\": \"\"\n      }\n    },\n    {\n      \"column\": \"\\u041a\\u0443\\u0431\\u043e\\u043a \\u043b\\u0438\\u0433\\u0438\",\n      \"properties\": {\n        \"dtype\": \"number\",\n        \"std\": 0,\n        \"min\": 0,\n        \"max\": 0,\n        \"num_unique_values\": 1,\n        \"samples\": [\n          0\n        ],\n        \"semantic_type\": \"\",\n        \"description\": \"\"\n      }\n    },\n    {\n      \"column\": \"\\u0421\\u0443\\u043f\\u0435\\u0440\\u043a\\u0443\\u0431\\u043e\\u043a\",\n      \"properties\": {\n        \"dtype\": \"number\",\n        \"std\": 1,\n        \"min\": 0,\n        \"max\": 4,\n        \"num_unique_values\": 5,\n        \"samples\": [\n          0\n        ],\n        \"semantic_type\": \"\",\n        \"description\": \"\"\n      }\n    }\n  ]\n}"
            }
          },
          "metadata": {},
          "execution_count": 64
        }
      ]
    },
    {
      "cell_type": "code",
      "source": [
        "#Обновленный Series с количеством чемпионатов:\n",
        "\n",
        "games=df['Чемпионат'].tolist()\n",
        "\n",
        "s2=pd.Series(games,index=teams)\n",
        "s2"
      ],
      "metadata": {
        "colab": {
          "base_uri": "https://localhost:8080/"
        },
        "id": "-PhkUSaKfj_7",
        "outputId": "78ea8041-f9fc-4a8b-e4e5-3087aae99adb"
      },
      "execution_count": 65,
      "outputs": [
        {
          "output_type": "execute_result",
          "data": {
            "text/plain": [
              "Юрий Сёмин («Локомотив»)              3\n",
              "Олег Романцев («Спартак»)             8\n",
              "Сергей Семак («Зенит»)                5\n",
              "Валерий Газзаев («Спартак-Алания»)    4\n",
              "Леонид Слуцкий (ЦСКА)                 3\n",
              "Курбан Бердыев («Рубин»)              2\n",
              "Лучано Спаллетти («Зенит»)            2\n",
              "Андре Виллаш-Боаш («Зенит»)           1\n",
              "Дик Адвокат («Зенит»)                 1\n",
              "Массимо Каррера («Спартак»)           1\n",
              "Зико (ЦСКА)                           0\n",
              "Георгий Ярцев («Спартак»)             1\n",
              "dtype: int64"
            ]
          },
          "metadata": {},
          "execution_count": 65
        }
      ]
    },
    {
      "cell_type": "markdown",
      "source": [
        "*2.1.4.6. Предположим, что каждая победа приносила 50 000 долларов США.\n",
        "Обновите данные, чтобы они содержали строку суммы в долларах, включая знак доллара.\n",
        "Например, для Локомотив это будет соответствовать:\n",
        "Тренер Юрий Сёмин  Локомотив $ 600000*"
      ],
      "metadata": {
        "id": "L-gvmYfHkijT"
      }
    },
    {
      "cell_type": "code",
      "execution_count": 66,
      "metadata": {
        "colab": {
          "base_uri": "https://localhost:8080/"
        },
        "id": "hnivdxI34_J0",
        "outputId": "eb5c7785-9fe4-4586-893b-efadd0e1e0cc"
      },
      "outputs": [
        {
          "output_type": "execute_result",
          "data": {
            "text/plain": [
              "Юрий Сёмин («Локомотив»)              $ 600000\n",
              "Олег Романцев («Спартак»)             $ 550000\n",
              "Сергей Семак («Зенит»)                $ 500000\n",
              "Валерий Газзаев («Спартак-Алания»)    $ 500000\n",
              "Леонид Слуцкий (ЦСКА)                 $ 350000\n",
              "Курбан Бердыев («Рубин»)              $ 250000\n",
              "Лучано Спаллетти («Зенит»)            $ 200000\n",
              "Андре Виллаш-Боаш («Зенит»)           $ 150000\n",
              "Дик Адвокат («Зенит»)                 $ 100000\n",
              "Массимо Каррера («Спартак»)           $ 100000\n",
              "Зико (ЦСКА)                            $ 50000\n",
              "Георгий Ярцев («Спартак»)              $ 50000\n",
              "dtype: object"
            ]
          },
          "metadata": {},
          "execution_count": 66
        }
      ],
      "source": [
        "money_s=s\n",
        "\n",
        "def toDollars(amount):\n",
        "    amount=amount*50000\n",
        "    return \"$ \" + str(amount)\n",
        "\n",
        "money_s.map(toDollars)"
      ]
    }
  ],
  "metadata": {
    "anaconda-cloud": {},
    "kernelspec": {
      "display_name": "Python 3",
      "language": "python",
      "name": "python3"
    },
    "language_info": {
      "codemirror_mode": {
        "name": "ipython",
        "version": 3
      },
      "file_extension": ".py",
      "mimetype": "text/x-python",
      "name": "python",
      "nbconvert_exporter": "python",
      "pygments_lexer": "ipython3",
      "version": "3.9.13"
    },
    "colab": {
      "provenance": [],
      "include_colab_link": true
    }
  },
  "nbformat": 4,
  "nbformat_minor": 0
}