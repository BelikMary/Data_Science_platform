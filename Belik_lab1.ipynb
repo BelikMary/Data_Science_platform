{
  "cells": [
    {
      "cell_type": "markdown",
      "metadata": {
        "id": "view-in-github",
        "colab_type": "text"
      },
      "source": [
        "<a href=\"https://colab.research.google.com/github/BelikMary/Data_Science_platform/blob/main/Belik_lab1.ipynb\" target=\"_parent\"><img src=\"https://colab.research.google.com/assets/colab-badge.svg\" alt=\"Open In Colab\"/></a>"
      ]
    },
    {
      "cell_type": "markdown",
      "metadata": {
        "id": "Jyrf8xk3k6Ys"
      },
      "source": [
        "# Лабораторная работа к лекции 1\n",
        "Ваше имя: Белик Мария\n",
        "\n",
        "Ваш адрес электронной почты: BelikMK@mgpu.ru"
      ]
    },
    {
      "cell_type": "markdown",
      "metadata": {
        "id": "86N7viRzk6Yt"
      },
      "source": [
        "## Упражнение 1.1. Типы данных и операции\n",
        "1. Определите две переменные и присвойте первой целое число, а второй — число с плавающей запятой. Определите новую переменную и присвойте сумму двух предыдущих переменных. Каков тип данных третьей переменной?\n",
        "2. Переназначьте переменную с другим типом данных, например, возьмите одну из числовых переменных и присвойте ей строку. Какой новый тип данных?\n",
        "3. Посмотрите, что произойдет, если вы попытаетесь добавить строку к строке.\n",
        "4. Посмотрите, что произойдет, если вы добавите строку к числу с плавающей запятой или целому числу."
      ]
    },
    {
      "cell_type": "code",
      "execution_count": 87,
      "metadata": {
        "id": "9ZgZCUPNk6Yt",
        "colab": {
          "base_uri": "https://localhost:8080/"
        },
        "outputId": "0ab468fa-97f4-42b3-b67f-548a9fe680e9"
      },
      "outputs": [
        {
          "output_type": "stream",
          "name": "stdout",
          "text": [
            "Переменная - целое число: 7\n",
            "Переменная с плавающей запятой: 9.789\n",
            "Переменная - сумма двух предыдущих: 16.789 , тип данных новой переменной с: <class 'float'>\n"
          ]
        }
      ],
      "source": [
        "#Задание 1\n",
        "a=int(7)\n",
        "print('Переменная - целое число:', a)\n",
        "b=float(9.789)\n",
        "print('Переменная с плавающей запятой:',b)\n",
        "c=a+b\n",
        "print('Переменная - сумма двух предыдущих:',c,', тип данных новой переменной с:',type(c))"
      ]
    },
    {
      "cell_type": "code",
      "source": [
        "#Задание 2\n",
        "a=\"Привет, мир!\"\n",
        "print('Новое значение переменной а:', a, ', тип данных измененной переменной:', type(a))"
      ],
      "metadata": {
        "colab": {
          "base_uri": "https://localhost:8080/"
        },
        "id": "3psHWBh9WEiT",
        "outputId": "d814d030-993f-45dd-c546-e280fdf89a78"
      },
      "execution_count": 88,
      "outputs": [
        {
          "output_type": "stream",
          "name": "stdout",
          "text": [
            "Новое значение переменной а: Привет, мир! , тип данных измененной переменной: <class 'str'>\n"
          ]
        }
      ]
    },
    {
      "cell_type": "code",
      "source": [
        "#'Задание 3\n",
        "str1=str('Мария')\n",
        "print(\"Первая строка: \",str1)\n",
        "str2=str('Белик')\n",
        "print(\"Вторая строка: \",str2)\n",
        "str3=str1+str2\n",
        "print(\"Добавим строку к строке:\", str3, \", тип данных новой перменной:\", type(str3))"
      ],
      "metadata": {
        "colab": {
          "base_uri": "https://localhost:8080/"
        },
        "id": "uJGpvZyjWILv",
        "outputId": "abaf85c8-c402-4fa4-dd81-664419f0f7bf"
      },
      "execution_count": 89,
      "outputs": [
        {
          "output_type": "stream",
          "name": "stdout",
          "text": [
            "Первая строка:  Мария\n",
            "Вторая строка:  Белик\n",
            "Добавим строку к строке: МарияБелик , тип данных новой перменной: <class 'str'>\n"
          ]
        }
      ]
    },
    {
      "cell_type": "code",
      "source": [
        "#Задание 4\n",
        "print(\"Попробуем добавить строку к переменной с плавающей запятой и увидим ошибку: \")\n",
        "try:\n",
        "  new=str1+b\n",
        "except Exception as exception:\n",
        "  print(exception)"
      ],
      "metadata": {
        "colab": {
          "base_uri": "https://localhost:8080/"
        },
        "id": "LOSgWpJ_WLNF",
        "outputId": "785653f6-e640-406b-9bed-48163474438a"
      },
      "execution_count": 90,
      "outputs": [
        {
          "output_type": "stream",
          "name": "stdout",
          "text": [
            "Попробуем добавить строку к переменной с плавающей запятой и увидим ошибку: \n",
            "can only concatenate str (not \"float\") to str\n"
          ]
        }
      ]
    },
    {
      "cell_type": "markdown",
      "metadata": {
        "id": "ZMoobyT-k6Yu"
      },
      "source": [
        "## Упражнение 1.2. Запуск программ\n",
        "\n",
        "  * Создайте новый файл Python(или файл с расширением `.ipynb`) и используйте функцию `double_number` в качестве шаблона. Измените код, чтобы добавить два числа вместо удвоения одного числа.\n",
        "  * Можете ли вы догадаться, что произойдет, если изменить отступ? Выполните данное действие.\n",
        "  * Попробуйте, что произойдет, если вы напечатаете `a` в самом конце программы. Пояснить, что происходит?\n",
        " [Текст ссылки](https://)"
      ]
    },
    {
      "cell_type": "code",
      "execution_count": 73,
      "metadata": {
        "id": "N2v5UHG1k6Yu",
        "colab": {
          "base_uri": "https://localhost:8080/"
        },
        "outputId": "1a8e1fee-0668-4247-8007-5d5646a2b302"
      },
      "outputs": [
        {
          "output_type": "execute_result",
          "data": {
            "text/plain": [
              "(100, 625)"
            ]
          },
          "metadata": {},
          "execution_count": 73
        }
      ],
      "source": [
        "def double_number(a,b):\n",
        "  doubled_a=a*a\n",
        "  doubled_b=b*b\n",
        "  return(doubled_a,doubled_b)\n",
        "\n",
        "double_number(10,25)"
      ]
    },
    {
      "cell_type": "code",
      "source": [
        "#Если изменить отступ, то выводится ошибка:\n",
        "  #def double_number(a,b):\n",
        "  #doubled_a=a*a\n",
        "  #doubled_b=b*b\n",
        "  #return(doubled_a,doubled_b)"
      ],
      "metadata": {
        "id": "TjOB5rV3vJmQ"
      },
      "execution_count": 98,
      "outputs": []
    },
    {
      "cell_type": "code",
      "source": [
        "#Пробуем напичатать а в самом конце программы:\n",
        "\n",
        "def double_number(a,b):\n",
        "    doubled_a=a*a\n",
        "    doubled_b=b*b\n",
        "    return(doubled_a,doubled_b)\n",
        "    print(a)\n",
        "\n",
        "double_number(10,25)"
      ],
      "metadata": {
        "colab": {
          "base_uri": "https://localhost:8080/"
        },
        "id": "lCSwAwmvwAE4",
        "outputId": "5d25ce6a-f15f-4514-8e68-c6573be059b2"
      },
      "execution_count": 95,
      "outputs": [
        {
          "output_type": "execute_result",
          "data": {
            "text/plain": [
              "(100, 625)"
            ]
          },
          "metadata": {},
          "execution_count": 95
        }
      ]
    },
    {
      "cell_type": "markdown",
      "metadata": {
        "id": "15GtjpzGk6Yu"
      },
      "source": [
        "## Упражнение 1.3. Создание ячеек, выполнение кода\n",
        "\n",
        "1. Создайте новую ячейку кода ниже, где вы определите переменные, содержащие ваше имя, ваш возраст  и вашу специальность.\n",
        "2. Создайте еще одну ячейку, использующую эти переменные, и выведите объединенную строку с указанием вашего имени, специальности и возраста в годах, месяцах и днях (при условии, что сегодня ваш день рождения). Вывод должен выглядеть так:\n",
        "\n",
        "```\n",
        "Имя: Кот-ученый, Специальность: Бизнес-Информатика, Возраст: 18 лет, или 216 месяцев, или 6480 дней..\n",
        "```"
      ]
    },
    {
      "cell_type": "code",
      "source": [
        "name=\"Кот-ученый\"\n",
        "age=int(18)\n",
        "spec=\"Бизнес-информатика\""
      ],
      "metadata": {
        "id": "rqQS8EYgXGR2"
      },
      "execution_count": 22,
      "outputs": []
    },
    {
      "cell_type": "code",
      "source": [
        "age_in_months=age*12\n",
        "\n",
        "age_in_days=age*360\n",
        "\n",
        "print(f\"Имя: {name}, Специальность: {spec}, Возраст: {age} лет, или {age_in_months} месяцев, или {age_in_days} дней.\")"
      ],
      "metadata": {
        "colab": {
          "base_uri": "https://localhost:8080/"
        },
        "id": "SZPotbEVYSc5",
        "outputId": "b4726a61-92e3-4bb5-9a55-1ecbcc0cf0d7"
      },
      "execution_count": 40,
      "outputs": [
        {
          "output_type": "stream",
          "name": "stdout",
          "text": [
            "Имя: Кот-ученый, Специальность: Бизнес-информатика, Возраст: 18 лет, или 216 месяцев, или 6480 дней.\n"
          ]
        }
      ]
    },
    {
      "cell_type": "markdown",
      "metadata": {
        "id": "bPTBzjXhk6Yu"
      },
      "source": [
        "## Упражнение 1.4: Функции\n",
        "Напишите функцию, которая\n",
        "  * принимает две числовые переменные\n",
        "  * умножает их друг на друга\n",
        "  * делит их на числовую переменную, определенную в области видимости вне функции\n",
        "  * и возвращает результат.\n",
        "\n",
        "Выведите результат функции для трех разных наборов входных переменных."
      ]
    },
    {
      "cell_type": "code",
      "execution_count": 46,
      "metadata": {
        "id": "z7DKIUQCk6Yu",
        "colab": {
          "base_uri": "https://localhost:8080/"
        },
        "outputId": "96687462-8bf4-4847-cd90-0910d5705adf"
      },
      "outputs": [
        {
          "output_type": "stream",
          "name": "stdout",
          "text": [
            "Результат функции для первого набора переменных 250.0\n",
            "Результат функции для второго набора переменных 5.625\n",
            "Результат функции для третьего набора переменных 2000.0\n"
          ]
        }
      ],
      "source": [
        "var1=4\n",
        "\n",
        "def function(var2,var3):\n",
        "  res=(var2*var3)/var1\n",
        "  return res\n",
        "\n",
        "print(\"Результат функции для первого набора переменных\", function(10,100))\n",
        "print(\"Результат функции для второго набора переменных\", function(9,2.5))\n",
        "print(\"Результат функции для третьего набора переменных\", function(0.8,10000))"
      ]
    },
    {
      "cell_type": "markdown",
      "metadata": {
        "id": "wOL8NtnrOxZx"
      },
      "source": [
        "## Упражнение 1.5*\n",
        "\n",
        "Есть некоторые данные о количестве книг, прочитанных разными людьми, работающими в книжном магазине Владимира. Создайте код Python, который учитывает каждого человека и выводит, сколько книг он прочитал. Если кто-то прочитал 0 книг, выведите «___ не читал ни одной книги!» вместо количества книг."
      ]
    },
    {
      "cell_type": "code",
      "execution_count": 48,
      "metadata": {
        "id": "VVH4T91qOxZx"
      },
      "outputs": [],
      "source": [
        "people = ['Krishnang', 'Steve', 'Jimmy', 'Mary', 'Divya', 'Robert', 'Yulia']\n",
        "books_read = [12, 6, 0, 7, 4, 10, 15]"
      ]
    },
    {
      "cell_type": "markdown",
      "metadata": {
        "id": "kurICCvEOxZx"
      },
      "source": [
        "Существует несколько способов решить эту задачу: можно изучить функцию `zip()`, использовать `enumerate()`, `range` и `len` или использовать другие методы. Чтобы напечатать имена и значения, вы можете использовать конкатенацию строк (+), форматирование f-строки или другие методы."
      ]
    },
    {
      "cell_type": "code",
      "execution_count": 62,
      "metadata": {
        "colab": {
          "base_uri": "https://localhost:8080/"
        },
        "id": "dQa_8Sm2OxZx",
        "outputId": "e013b548-fb03-48a8-e825-dbdfeca37645"
      },
      "outputs": [
        {
          "output_type": "stream",
          "name": "stdout",
          "text": [
            "[('Krishnang', 12), ('Steve', 6), ('Jimmy', 0), ('Mary', 7), ('Divya', 4), ('Robert', 10), ('Yulia', 15)]\n",
            "Krishnang прочитал 12 книг.\n",
            "Steve прочитал 6 книг.\n",
            "Jimmy не читал ни одной книги!\n",
            "Mary прочитал 7 книг.\n",
            "Divya прочитал 4 книг.\n",
            "Robert прочитал 10 книг.\n",
            "Yulia прочитал 15 книг.\n"
          ]
        }
      ],
      "source": [
        "zipped=list(zip(people,books_read))\n",
        "print(zipped)\n",
        "\n",
        "for person, books_count in zipped:\n",
        "      if books_count == 0:\n",
        "          print(f\"{person} не читал ни одной книги!\")\n",
        "      else:\n",
        "          print(f\"{person} прочитал {books_count} книг.\")"
      ]
    },
    {
      "cell_type": "markdown",
      "metadata": {
        "id": "8kpQSnCMOxZx"
      },
      "source": [
        "Преобразуйте только что созданный цикл в функцию, которая принимает два списка (прочитанные книги и людей) в качестве аргументов."
      ]
    },
    {
      "cell_type": "code",
      "execution_count": 64,
      "metadata": {
        "colab": {
          "base_uri": "https://localhost:8080/"
        },
        "id": "gykSq4EzOxZx",
        "outputId": "30465e7d-8f47-4373-cb27-b6e7088cdb6b"
      },
      "outputs": [
        {
          "output_type": "stream",
          "name": "stdout",
          "text": [
            "Krishnang прочитал 12 книг.\n",
            "Steve прочитал 6 книг.\n",
            "Jimmy не читал ни одной книги!\n",
            "Mary прочитал 7 книг.\n",
            "Divya прочитал 4 книг.\n",
            "Robert прочитал 10 книг.\n",
            "Yulia прочитал 15 книг.\n"
          ]
        }
      ],
      "source": [
        "def funct(a, b):\n",
        "  zipped=list(zip(a,b))\n",
        "  for a, b in zipped:\n",
        "      if b == 0:\n",
        "          print(f\"{a} не читал ни одной книги!\")\n",
        "      else:\n",
        "          print(f\"{a} прочитал {b} книг.\")\n",
        "\n",
        "funct(people, books_read)"
      ]
    },
    {
      "cell_type": "markdown",
      "metadata": {
        "id": "0CQKHrqzOxZx"
      },
      "source": [
        "Отсортируйте значения `books_read` от большего к меньшему и выведите трех первых людей с количеством прочитанных ими книг. Некоторые возможные способы решения этой задачи включают использование сортировки аргументов `NumPy`, создание словаря и создание кортежей."
      ]
    },
    {
      "cell_type": "code",
      "execution_count": 68,
      "metadata": {
        "colab": {
          "base_uri": "https://localhost:8080/"
        },
        "id": "ZvIVjFQpOxZx",
        "outputId": "0143765c-44fc-4c5d-9e38-4bb7f35c1274"
      },
      "outputs": [
        {
          "output_type": "stream",
          "name": "stdout",
          "text": [
            "Yulia прочитал 15 книг.\n",
            "Krishnang прочитал 12 книг.\n",
            "Robert прочитал 10 книг.\n"
          ]
        }
      ],
      "source": [
        "def funct(a, b):\n",
        "  zipped=dict(zip(a,b))\n",
        "  sorted_zip = sorted(zipped.items(), key=lambda x: x[1], reverse=True)\n",
        "  top_sorted_zip=sorted_zip[:3]\n",
        "  for a, b in top_sorted_zip:\n",
        "      if b == 0:\n",
        "          print(f\"{a} не читал ни одной книги!\")\n",
        "      else:\n",
        "          print(f\"{a} прочитал {b} книг.\")\n",
        "\n",
        "funct(people, books_read)"
      ]
    }
  ],
  "metadata": {
    "colab": {
      "provenance": [],
      "include_colab_link": true
    },
    "kernelspec": {
      "display_name": "Python 3 (ipykernel)",
      "language": "python",
      "name": "python3"
    },
    "language_info": {
      "codemirror_mode": {
        "name": "ipython",
        "version": 3
      },
      "file_extension": ".py",
      "mimetype": "text/x-python",
      "name": "python",
      "nbconvert_exporter": "python",
      "pygments_lexer": "ipython3",
      "version": "3.9.13"
    }
  },
  "nbformat": 4,
  "nbformat_minor": 0
}